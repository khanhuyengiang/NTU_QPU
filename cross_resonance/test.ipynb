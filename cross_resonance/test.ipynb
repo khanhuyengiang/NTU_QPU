{
 "cells": [
  {
   "cell_type": "code",
   "execution_count": 7,
   "metadata": {},
   "outputs": [
    {
     "name": "stderr",
     "output_type": "stream",
     "text": [
      "[Qibo 0.2.3|INFO|2024-04-25 15:54:19]: Loading platform dummy\n",
      "[Qibo 0.2.3|INFO|2024-04-25 15:54:19]: Connecting to instrument <qibolab.instruments.dummy.DummyInstrument object at 0x7fae7d3a6890>.\n",
      "[Qibo 0.2.3|INFO|2024-04-25 15:54:19]: Connecting to dummy instrument.\n",
      "[Qibo 0.2.3|INFO|2024-04-25 15:54:19]: Connecting to instrument <qibolab.instruments.dummy.DummyLocalOscillator object at 0x7fadd7a59000>.\n",
      "[Qibo 0.2.3|INFO|2024-04-25 15:54:19]: Minimal execution time (sequence): 0.202\n"
     ]
    },
    {
     "ename": "KeyError",
     "evalue": "<AveragingMode.SEQUENTIAL: 3>",
     "output_type": "error",
     "traceback": [
      "\u001b[0;31m---------------------------------------------------------------------------\u001b[0m",
      "\u001b[0;31mKeyError\u001b[0m                                  Traceback (most recent call last)",
      "Cell \u001b[0;32mIn[7], line 37\u001b[0m\n\u001b[1;32m     35\u001b[0m     cr_pulse\u001b[38;5;241m.\u001b[39mduration \u001b[38;5;241m=\u001b[39m t\n\u001b[1;32m     36\u001b[0m     tgt_ro_pulse\u001b[38;5;241m.\u001b[39mstart \u001b[38;5;241m=\u001b[39m cr_pulse\u001b[38;5;241m.\u001b[39mfinish\n\u001b[0;32m---> 37\u001b[0m     res1[idx] \u001b[38;5;241m=\u001b[39m \u001b[43mplatform\u001b[49m\u001b[38;5;241;43m.\u001b[39;49m\u001b[43mexecute_pulse_sequence\u001b[49m\u001b[43m(\u001b[49m\u001b[43mps\u001b[49m\u001b[43m,\u001b[49m\u001b[43m \u001b[49m\u001b[43mopts\u001b[49m\u001b[43m)\u001b[49m[tgt_ro_pulse\u001b[38;5;241m.\u001b[39mserial]\u001b[38;5;241m.\u001b[39mmagnitude\n\u001b[1;32m     39\u001b[0m ps\u001b[38;5;241m.\u001b[39madd(crtl_pi_pulse)\n\u001b[1;32m     40\u001b[0m \u001b[38;5;28;01mfor\u001b[39;00m idx, t \u001b[38;5;129;01min\u001b[39;00m \u001b[38;5;28menumerate\u001b[39m(sweep):\n",
      "File \u001b[0;32m~/Documents/paul/qibolab/src/qibolab/platform.py:229\u001b[0m, in \u001b[0;36mPlatform.execute_pulse_sequence\u001b[0;34m(self, sequence, options, **kwargs)\u001b[0m\n\u001b[1;32m    224\u001b[0m time \u001b[38;5;241m=\u001b[39m (\n\u001b[1;32m    225\u001b[0m     (sequence\u001b[38;5;241m.\u001b[39mduration \u001b[38;5;241m+\u001b[39m options\u001b[38;5;241m.\u001b[39mrelaxation_time) \u001b[38;5;241m*\u001b[39m options\u001b[38;5;241m.\u001b[39mnshots \u001b[38;5;241m*\u001b[39m NS_TO_SEC\n\u001b[1;32m    226\u001b[0m )\n\u001b[1;32m    227\u001b[0m log\u001b[38;5;241m.\u001b[39minfo(\u001b[38;5;124mf\u001b[39m\u001b[38;5;124m\"\u001b[39m\u001b[38;5;124mMinimal execution time (sequence): \u001b[39m\u001b[38;5;132;01m{\u001b[39;00mtime\u001b[38;5;132;01m}\u001b[39;00m\u001b[38;5;124m\"\u001b[39m)\n\u001b[0;32m--> 229\u001b[0m \u001b[38;5;28;01mreturn\u001b[39;00m \u001b[38;5;28;43mself\u001b[39;49m\u001b[38;5;241;43m.\u001b[39;49m\u001b[43m_execute\u001b[49m\u001b[43m(\u001b[49m\u001b[43msequence\u001b[49m\u001b[43m,\u001b[49m\u001b[43m \u001b[49m\u001b[43moptions\u001b[49m\u001b[43m,\u001b[49m\u001b[43m \u001b[49m\u001b[38;5;241;43m*\u001b[39;49m\u001b[38;5;241;43m*\u001b[39;49m\u001b[43mkwargs\u001b[49m\u001b[43m)\u001b[49m\n",
      "File \u001b[0;32m~/Documents/paul/qibolab/src/qibolab/platform.py:200\u001b[0m, in \u001b[0;36mPlatform._execute\u001b[0;34m(self, sequence, options, **kwargs)\u001b[0m\n\u001b[1;32m    198\u001b[0m \u001b[38;5;28;01mfor\u001b[39;00m instrument \u001b[38;5;129;01min\u001b[39;00m \u001b[38;5;28mself\u001b[39m\u001b[38;5;241m.\u001b[39minstruments\u001b[38;5;241m.\u001b[39mvalues():\n\u001b[1;32m    199\u001b[0m     \u001b[38;5;28;01mif\u001b[39;00m \u001b[38;5;28misinstance\u001b[39m(instrument, Controller):\n\u001b[0;32m--> 200\u001b[0m         new_result \u001b[38;5;241m=\u001b[39m \u001b[43minstrument\u001b[49m\u001b[38;5;241;43m.\u001b[39;49m\u001b[43mplay\u001b[49m\u001b[43m(\u001b[49m\n\u001b[1;32m    201\u001b[0m \u001b[43m            \u001b[49m\u001b[38;5;28;43mself\u001b[39;49m\u001b[38;5;241;43m.\u001b[39;49m\u001b[43mqubits\u001b[49m\u001b[43m,\u001b[49m\u001b[43m \u001b[49m\u001b[38;5;28;43mself\u001b[39;49m\u001b[38;5;241;43m.\u001b[39;49m\u001b[43mcouplers\u001b[49m\u001b[43m,\u001b[49m\u001b[43m \u001b[49m\u001b[43msequence\u001b[49m\u001b[43m,\u001b[49m\u001b[43m \u001b[49m\u001b[43moptions\u001b[49m\n\u001b[1;32m    202\u001b[0m \u001b[43m        \u001b[49m\u001b[43m)\u001b[49m\n\u001b[1;32m    203\u001b[0m         \u001b[38;5;28;01mif\u001b[39;00m \u001b[38;5;28misinstance\u001b[39m(new_result, \u001b[38;5;28mdict\u001b[39m):\n\u001b[1;32m    204\u001b[0m             result\u001b[38;5;241m.\u001b[39mupdate(new_result)\n",
      "File \u001b[0;32m~/Documents/paul/qibolab/src/qibolab/instruments/dummy.py:126\u001b[0m, in \u001b[0;36mDummyInstrument.play\u001b[0;34m(self, qubits, couplers, sequence, options)\u001b[0m\n\u001b[1;32m    124\u001b[0m \u001b[38;5;28;01mfor\u001b[39;00m ro_pulse \u001b[38;5;129;01min\u001b[39;00m sequence\u001b[38;5;241m.\u001b[39mro_pulses:\n\u001b[1;32m    125\u001b[0m     values \u001b[38;5;241m=\u001b[39m np\u001b[38;5;241m.\u001b[39msqueeze(\u001b[38;5;28mself\u001b[39m\u001b[38;5;241m.\u001b[39mget_values(options, ro_pulse, shape))\n\u001b[0;32m--> 126\u001b[0m     results[ro_pulse\u001b[38;5;241m.\u001b[39mqubit] \u001b[38;5;241m=\u001b[39m results[ro_pulse\u001b[38;5;241m.\u001b[39mserial] \u001b[38;5;241m=\u001b[39m \u001b[43moptions\u001b[49m\u001b[38;5;241;43m.\u001b[39;49m\u001b[43mresults_type\u001b[49m(\n\u001b[1;32m    127\u001b[0m         values\n\u001b[1;32m    128\u001b[0m     )\n\u001b[1;32m    130\u001b[0m \u001b[38;5;28;01mreturn\u001b[39;00m results\n",
      "File \u001b[0;32m~/Documents/paul/qibolab/src/qibolab/execution_parameters.py:79\u001b[0m, in \u001b[0;36mExecutionParameters.results_type\u001b[0;34m(self)\u001b[0m\n\u001b[1;32m     76\u001b[0m \u001b[38;5;129m@property\u001b[39m\n\u001b[1;32m     77\u001b[0m \u001b[38;5;28;01mdef\u001b[39;00m \u001b[38;5;21mresults_type\u001b[39m(\u001b[38;5;28mself\u001b[39m):\n\u001b[1;32m     78\u001b[0m \u001b[38;5;250m    \u001b[39m\u001b[38;5;124;03m\"\"\"Returns corresponding results class.\"\"\"\u001b[39;00m\n\u001b[0;32m---> 79\u001b[0m     \u001b[38;5;28;01mreturn\u001b[39;00m \u001b[43mRESULTS_TYPE\u001b[49m\u001b[43m[\u001b[49m\u001b[38;5;28;43mself\u001b[39;49m\u001b[38;5;241;43m.\u001b[39;49m\u001b[43maveraging_mode\u001b[49m\u001b[43m]\u001b[49m[\u001b[38;5;28mself\u001b[39m\u001b[38;5;241m.\u001b[39macquisition_type]\n",
      "\u001b[0;31mKeyError\u001b[0m: <AveragingMode.SEQUENTIAL: 3>"
     ]
    }
   ],
   "source": [
    "import numpy as np\n",
    "import matplotlib.pyplot as plt\n",
    "from simple_normalize import normalize_to_minus_one_one\n",
    "\n",
    "from qibolab import create_platform, ExecutionParameters, AveragingMode, AcquisitionType\n",
    "from qibolab.pulses import PulseSequence\n",
    "\n",
    "CRTL = 1\n",
    "TGT = 2\n",
    "\n",
    "opts = ExecutionParameters(\n",
    "    nshots=1000,\n",
    "    relaxation_time=200e3,\n",
    "    acquisition_type=AcquisitionType.INTEGRATION,\n",
    "    averaging_mode=AveragingMode.SEQUENTIAL\n",
    ")\n",
    "\n",
    "platform = create_platform(\"dummy\")\n",
    "platform.connect()\n",
    "\n",
    "sweep = np.arange(0, 5000, 100)\n",
    "res1 = np.zeros(len(sweep))\n",
    "res2 = np.zeros(len(sweep))\n",
    "\n",
    "crtl_pi_pulse = platform.create_RX_pulse(qubit=CRTL, start=5)\n",
    "#tgt_pi_pulse = platform.create_RX_pulse(qubit=TGT, start=5)\n",
    "#pulse_length = max(crtl_pi_pulse.finish,tgt_pi_pulse.finish)\n",
    "tgt_ro_pulse = platform.create_qubit_readout_pulse(qubit=TGT, start=crtl_pi_pulse.finish)\n",
    "cr_pulse = platform.create_RX_pulse(qubit=TGT, start=crtl_pi_pulse.finish)\n",
    "cr_pulse.channel = crtl_pi_pulse.channel\n",
    "cr_pulse.amplitude = 1\n",
    "\n",
    "ps = PulseSequence(*[cr_pulse, tgt_ro_pulse])\n",
    "for idx, t in enumerate(sweep):\n",
    "    cr_pulse.duration = t\n",
    "    tgt_ro_pulse.start = cr_pulse.finish\n",
    "    res1[idx] = platform.execute_pulse_sequence(ps, opts)[tgt_ro_pulse.serial].magnitude\n",
    "\n",
    "ps.add(crtl_pi_pulse)\n",
    "for idx, t in enumerate(sweep):\n",
    "    cr_pulse.duration = t\n",
    "    tgt_ro_pulse.start = cr_pulse.finish\n",
    "    res2[idx] = platform.execute_pulse_sequence(ps, opts)[tgt_ro_pulse.serial].magnitude\n",
    "\n",
    "np.save(f\"./data/crtl_0_cr_{CRTL}{TGT}\", res1)\n",
    "np.save(f\"./data/crtl_1_cr_{CRTL}{TGT}\", res2)\n",
    "\n",
    "gnd = np.load(f\"./data/crtl_0_cr_{CRTL}{TGT}.npy\")\n",
    "exc = np.load(f\"./data/crtl_1_cr_{CRTL}{TGT}.npy\")\n",
    "\n",
    "t = sweep\n",
    "gnd,exc = normalize_to_minus_one_one(gnd,exc)\n",
    "\n",
    "plt.plot(t, gnd, color=\"blue\",marker='o', linestyle='-', label=r\"$Q_{CRTL} = |0\\rangle$\")\n",
    "plt.plot(t, exc, color=\"orange\",marker='o', linestyle='-', label=r\"$Q_{CRTL} = |1\\rangle$\")\n",
    "\n",
    "plt.grid()\n",
    "plt.xlabel(\"CR Pulse Duration [ns]\")\n",
    "plt.ylabel(\"Expectation Value\")\n",
    "plt.legend()\n",
    "plt.title(\"Q{} as control, Q{} as target\".format(CRTL + 1, TGT + 1))\n",
    "plt.tight_layout()\n",
    "plt.savefig(f\"./plots/CR_{CRTL}{TGT}.png\", dpi=300)"
   ]
  },
  {
   "cell_type": "code",
   "execution_count": null,
   "metadata": {},
   "outputs": [],
   "source": []
  },
  {
   "cell_type": "code",
   "execution_count": null,
   "metadata": {},
   "outputs": [],
   "source": []
  }
 ],
 "metadata": {
  "kernelspec": {
   "display_name": "Python 3",
   "language": "python",
   "name": "python3"
  },
  "language_info": {
   "codemirror_mode": {
    "name": "ipython",
    "version": 3
   },
   "file_extension": ".py",
   "mimetype": "text/x-python",
   "name": "python",
   "nbconvert_exporter": "python",
   "pygments_lexer": "ipython3",
   "version": "3.10.12"
  }
 },
 "nbformat": 4,
 "nbformat_minor": 2
}
