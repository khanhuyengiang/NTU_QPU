{
 "cells": [
  {
   "cell_type": "code",
   "execution_count": 6,
   "metadata": {},
   "outputs": [],
   "source": [
    "import numpy as np\n",
    "import matplotlib.pyplot as plt\n",
    "\n",
    "from qibolab import create_platform, ExecutionParameters, AveragingMode, AcquisitionType\n",
    "from qibolab.pulses import PulseSequence\n",
    "from simple_normalize import normalize_to_minus_one_one"
   ]
  },
  {
   "cell_type": "code",
   "execution_count": 7,
   "metadata": {},
   "outputs": [
    {
     "name": "stderr",
     "output_type": "stream",
     "text": [
      "[Qibo 0.2.3|ERROR|2024-04-25 15:04:55]: Platform icarusq_iqm5q does not exist.\n"
     ]
    },
    {
     "ename": "ValueError",
     "evalue": "Platform icarusq_iqm5q does not exist.",
     "output_type": "error",
     "traceback": [
      "\u001b[0;31m---------------------------------------------------------------------------\u001b[0m",
      "\u001b[0;31mValueError\u001b[0m                                Traceback (most recent call last)",
      "Cell \u001b[0;32mIn[7], line 3\u001b[0m\n\u001b[1;32m      1\u001b[0m \u001b[38;5;28;01mimport\u001b[39;00m \u001b[38;5;21;01mnumpy\u001b[39;00m \u001b[38;5;28;01mas\u001b[39;00m \u001b[38;5;21;01mnp\u001b[39;00m\n\u001b[1;32m      2\u001b[0m \u001b[38;5;28;01mfrom\u001b[39;00m \u001b[38;5;21;01mqdp\u001b[39;00m \u001b[38;5;28;01mimport\u001b[39;00m DensityMatrixExponentiation\n\u001b[0;32m----> 3\u001b[0m platform \u001b[38;5;241m=\u001b[39m \u001b[43mcreate_platform\u001b[49m\u001b[43m(\u001b[49m\u001b[38;5;124;43m\"\u001b[39;49m\u001b[38;5;124;43micarusq_iqm5q\u001b[39;49m\u001b[38;5;124;43m\"\u001b[39;49m\u001b[43m)\u001b[49m\n\u001b[1;32m      4\u001b[0m my_protocol \u001b[38;5;241m=\u001b[39m DensityMatrixExponentiation(theta\u001b[38;5;241m=\u001b[39mnp\u001b[38;5;241m.\u001b[39mpi,N\u001b[38;5;241m=\u001b[39m\u001b[38;5;241m3\u001b[39m,num_work_qubits\u001b[38;5;241m=\u001b[39m\u001b[38;5;241m1\u001b[39m,num_instruction_qubits\u001b[38;5;241m=\u001b[39m\u001b[38;5;241m3\u001b[39m,number_muq_per_call\u001b[38;5;241m=\u001b[39m\u001b[38;5;241m1\u001b[39m)\n\u001b[1;32m      5\u001b[0m my_protocol\u001b[38;5;241m.\u001b[39mmemory_call_circuit(num_instruction_qubits_per_query\u001b[38;5;241m=\u001b[39m\u001b[38;5;241m3\u001b[39m)\n",
      "File \u001b[0;32m~/Documents/paul/qibolab/src/qibolab/__init__.py:48\u001b[0m, in \u001b[0;36mcreate_platform\u001b[0;34m(name, runcard)\u001b[0m\n\u001b[1;32m     46\u001b[0m platform \u001b[38;5;241m=\u001b[39m get_platforms_path() \u001b[38;5;241m/\u001b[39m \u001b[38;5;124mf\u001b[39m\u001b[38;5;124m\"\u001b[39m\u001b[38;5;132;01m{\u001b[39;00mname\u001b[38;5;132;01m}\u001b[39;00m\u001b[38;5;124m.py\u001b[39m\u001b[38;5;124m\"\u001b[39m\n\u001b[1;32m     47\u001b[0m \u001b[38;5;28;01mif\u001b[39;00m \u001b[38;5;129;01mnot\u001b[39;00m platform\u001b[38;5;241m.\u001b[39mexists():\n\u001b[0;32m---> 48\u001b[0m     \u001b[43mraise_error\u001b[49m\u001b[43m(\u001b[49m\u001b[38;5;167;43;01mValueError\u001b[39;49;00m\u001b[43m,\u001b[49m\u001b[43m \u001b[49m\u001b[38;5;124;43mf\u001b[39;49m\u001b[38;5;124;43m\"\u001b[39;49m\u001b[38;5;124;43mPlatform \u001b[39;49m\u001b[38;5;132;43;01m{\u001b[39;49;00m\u001b[43mname\u001b[49m\u001b[38;5;132;43;01m}\u001b[39;49;00m\u001b[38;5;124;43m does not exist.\u001b[39;49m\u001b[38;5;124;43m\"\u001b[39;49m\u001b[43m)\u001b[49m\n\u001b[1;32m     50\u001b[0m spec \u001b[38;5;241m=\u001b[39m importlib\u001b[38;5;241m.\u001b[39mutil\u001b[38;5;241m.\u001b[39mspec_from_file_location(\u001b[38;5;124m\"\u001b[39m\u001b[38;5;124mplatform\u001b[39m\u001b[38;5;124m\"\u001b[39m, platform)\n\u001b[1;32m     51\u001b[0m module \u001b[38;5;241m=\u001b[39m importlib\u001b[38;5;241m.\u001b[39mutil\u001b[38;5;241m.\u001b[39mmodule_from_spec(spec)\n",
      "File \u001b[0;32m/usr/local/lib/python3.10/dist-packages/qibo/config.py:48\u001b[0m, in \u001b[0;36mraise_error\u001b[0;34m(exception, message, args)\u001b[0m\n\u001b[1;32m     46\u001b[0m     \u001b[38;5;28;01mraise\u001b[39;00m exception(message, args)\n\u001b[1;32m     47\u001b[0m \u001b[38;5;28;01melse\u001b[39;00m:\n\u001b[0;32m---> 48\u001b[0m     \u001b[38;5;28;01mraise\u001b[39;00m exception(message)\n",
      "\u001b[0;31mValueError\u001b[0m: Platform icarusq_iqm5q does not exist."
     ]
    }
   ],
   "source": [
    "import numpy as np\n",
    "from qdp import DensityMatrixExponentiation\n",
    "platform = create_platform(\"dummy\")\n",
    "my_protocol = DensityMatrixExponentiation(theta=np.pi,N=3,num_work_qubits=1,num_instruction_qubits=3,number_muq_per_call=1)\n",
    "my_protocol.memory_call_circuit(num_instruction_qubits_per_query=3)\n",
    "print('DME, q0 is target qubit, q1,q2 and q3 are instruction qubit')\n",
    "print(my_protocol.c.draw())\n",
    "c = my_protocol.c"
   ]
  },
  {
   "cell_type": "code",
   "execution_count": null,
   "metadata": {},
   "outputs": [],
   "source": []
  }
 ],
 "metadata": {
  "kernelspec": {
   "display_name": "Python 3",
   "language": "python",
   "name": "python3"
  },
  "language_info": {
   "codemirror_mode": {
    "name": "ipython",
    "version": 3
   },
   "file_extension": ".py",
   "mimetype": "text/x-python",
   "name": "python",
   "nbconvert_exporter": "python",
   "pygments_lexer": "ipython3",
   "version": "3.10.12"
  }
 },
 "nbformat": 4,
 "nbformat_minor": 2
}
